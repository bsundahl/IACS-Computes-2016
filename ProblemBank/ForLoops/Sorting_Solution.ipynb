{
 "cells": [
  {
   "cell_type": "markdown",
   "metadata": {},
   "source": [
    "Write a function that takes a list of numbers and outputs a list of the same numbers arranged in increasing order. Test your function on a bunch of different lists that test different situations. You may want to write multiple functions, breaking down the problem into pieces and tackling each individually."
   ]
  },
  {
   "cell_type": "code",
   "execution_count": 7,
   "metadata": {
    "collapsed": true
   },
   "outputs": [],
   "source": [
    "def findmin(mylist):\n",
    "    #outputs the index of the most negative element in the list. If there are multiple occurences of the same number in the list, outputs the first occurrence.\n",
    "    min_index = 0 #assumes the list is non-empty, which may be a problem\n",
    "    for i in range(1,len(mylist)):\n",
    "        if mylist[i] < mylist[min_index]:\n",
    "            min_index = i\n",
    "    return min_index\n",
    "\n",
    "def mysort(mylist):\n",
    "    newlist = []\n",
    "    n = len(mylist)\n",
    "    i = 0\n",
    "    while i < n: #This will fix the empty-list problem in findmin\n",
    "        j = findmin(mylist)\n",
    "        newlist.append(mylist[j])\n",
    "        mylist = mylist[:j] + mylist[j+1:]\n",
    "        i = i + 1\n",
    "    return newlist"
   ]
  },
  {
   "cell_type": "code",
   "execution_count": 8,
   "metadata": {
    "collapsed": false
   },
   "outputs": [
    {
     "data": {
      "text/plain": [
       "[-5, 0, 1, 2, 3, 3, 4, 5, 5, 5, 6, 6, 6, 7, 8, 8, 9]"
      ]
     },
     "execution_count": 8,
     "metadata": {},
     "output_type": "execute_result"
    }
   ],
   "source": [
    "mysort([6,6,5,4,7,8,3,5,2,9,8,6,0,3,5,1,-5])"
   ]
  },
  {
   "cell_type": "code",
   "execution_count": 9,
   "metadata": {
    "collapsed": false
   },
   "outputs": [
    {
     "data": {
      "text/plain": [
       "[1, 2, 3]"
      ]
     },
     "execution_count": 9,
     "metadata": {},
     "output_type": "execute_result"
    }
   ],
   "source": [
    "mysort([1,2,3])"
   ]
  },
  {
   "cell_type": "code",
   "execution_count": 10,
   "metadata": {
    "collapsed": false
   },
   "outputs": [
    {
     "data": {
      "text/plain": [
       "[1, 1, 1]"
      ]
     },
     "execution_count": 10,
     "metadata": {},
     "output_type": "execute_result"
    }
   ],
   "source": [
    "mysort([1,1,1])"
   ]
  },
  {
   "cell_type": "code",
   "execution_count": 11,
   "metadata": {
    "collapsed": false
   },
   "outputs": [
    {
     "data": {
      "text/plain": [
       "[]"
      ]
     },
     "execution_count": 11,
     "metadata": {},
     "output_type": "execute_result"
    }
   ],
   "source": [
    "mysort([])"
   ]
  },
  {
   "cell_type": "code",
   "execution_count": null,
   "metadata": {
    "collapsed": true
   },
   "outputs": [],
   "source": []
  }
 ],
 "metadata": {
  "kernelspec": {
   "display_name": "Python 2",
   "language": "python",
   "name": "python2"
  },
  "language_info": {
   "codemirror_mode": {
    "name": "ipython",
    "version": 2
   },
   "file_extension": ".py",
   "mimetype": "text/x-python",
   "name": "python",
   "nbconvert_exporter": "python",
   "pygments_lexer": "ipython2",
   "version": "2.7.11"
  }
 },
 "nbformat": 4,
 "nbformat_minor": 0
}

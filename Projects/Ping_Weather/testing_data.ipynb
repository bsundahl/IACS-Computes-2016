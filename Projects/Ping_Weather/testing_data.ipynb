{
 "cells": [
  {
   "cell_type": "markdown",
   "metadata": {},
   "source": [
    "# Testing Data "
   ]
  },
  {
   "cell_type": "code",
   "execution_count": 1,
   "metadata": {
    "collapsed": true
   },
   "outputs": [],
   "source": [
    "\"\"\"\n",
    "plot H's and L's on a sea-level pressure map\n",
    "(uses scipy.ndimage.filters and netcdf4-python)\n",
    "\"\"\"\n",
    "%matplotlib inline\n",
    "import numpy as np\n",
    "import matplotlib.pyplot as plt\n",
    "from datetime import datetime\n",
    "from mpl_toolkits.basemap import Basemap, addcyclic\n",
    "from scipy.ndimage.filters import minimum_filter, maximum_filter\n",
    "from netCDF4 import Dataset\n",
    "\n",
    "def extrema(mat,mode='wrap',window=10):\n",
    "    \"\"\"find the indices of local extrema (min and max)\n",
    "    in the input array.\"\"\"\n",
    "    mn = minimum_filter(mat, size=window, mode=mode)\n",
    "    mx = maximum_filter(mat, size=window, mode=mode)\n",
    "    # (mat == mx) true if pixel is equal to the local max\n",
    "    # (mat == mn) true if pixel is equal to the local in\n",
    "    # Return the indices of the maxima, minima\n",
    "    return np.nonzero(mat == mn), np.nonzero(mat == mx)\n",
    "\n",
    "# plot 00 UTC today.\n",
    "date = datetime.now().strftime('%Y%m%d')+'00'\n",
    "\n",
    "# open OpenDAP dataset.\n",
    "#data=Dataset(\"http://nomads.ncep.noaa.gov:9090/dods/gfs/gfs/%s/gfs_%sz_anl\" %\\\n",
    "#        (date[0:8],date[8:10]))\n",
    "data=Dataset(\"http://nomads.ncep.noaa.gov:9090/dods/gfs_1p00/gfs%s/gfs_1p00_%sz\"%\\\n",
    "        (date[0:8],date[8:10]))"
   ]
  },
  {
   "cell_type": "code",
   "execution_count": 5,
   "metadata": {
    "collapsed": false
   },
   "outputs": [
    {
     "name": "stdout",
     "output_type": "stream",
     "text": [
      "<type 'netCDF4._netCDF4.Variable'>\n",
      "float64 time(time)\n",
      "    grads_dim: t\n",
      "    grads_mapping: linear\n",
      "    grads_size: 33\n",
      "    grads_min: 00z22jun2016\n",
      "    grads_step: 12hr\n",
      "    units: days since 1-1-1 00:00:0.0\n",
      "    long_name: time\n",
      "    minimum: 00z22jun2016\n",
      "    maximum: 00z08jul2016\n",
      "    resolution: 0.5\n",
      "unlimited dimensions: \n",
      "current shape = (33,)\n",
      "filling off\n",
      "\n"
     ]
    }
   ],
   "source": [
    "print data['time']"
   ]
  },
  {
   "cell_type": "code",
   "execution_count": 6,
   "metadata": {
    "collapsed": false
   },
   "outputs": [
    {
     "name": "stdout",
     "output_type": "stream",
     "text": [
      "<type 'netCDF4._netCDF4.Variable'>\n",
      "float64 lev(lev)\n",
      "    grads_dim: z\n",
      "    grads_mapping: levels\n",
      "    units: millibar\n",
      "    long_name: altitude\n",
      "    minimum: 1000.0\n",
      "    maximum: 1.0\n",
      "    resolution: 33.3\n",
      "unlimited dimensions: \n",
      "current shape = (31,)\n",
      "filling off\n",
      "\n"
     ]
    }
   ],
   "source": [
    "print data['lev']"
   ]
  },
  {
   "cell_type": "code",
   "execution_count": 7,
   "metadata": {
    "collapsed": false
   },
   "outputs": [
    {
     "name": "stdout",
     "output_type": "stream",
     "text": [
      "<type 'netCDF4._netCDF4.Variable'>\n",
      "float64 lat(lat)\n",
      "    grads_dim: y\n",
      "    grads_mapping: linear\n",
      "    grads_size: 181\n",
      "    units: degrees_north\n",
      "    long_name: latitude\n",
      "    minimum: -90.0\n",
      "    maximum: 90.0\n",
      "    resolution: 1.0\n",
      "unlimited dimensions: \n",
      "current shape = (181,)\n",
      "filling off\n",
      "\n"
     ]
    }
   ],
   "source": [
    "print data['lat']"
   ]
  },
  {
   "cell_type": "code",
   "execution_count": 9,
   "metadata": {
    "collapsed": false
   },
   "outputs": [
    {
     "name": "stdout",
     "output_type": "stream",
     "text": [
      "<type 'netCDF4._netCDF4.Variable'>\n",
      "float64 lon(lon)\n",
      "    grads_dim: x\n",
      "    grads_mapping: linear\n",
      "    grads_size: 360\n",
      "    units: degrees_east\n",
      "    long_name: longitude\n",
      "    minimum: 0.0\n",
      "    maximum: 359.0\n",
      "    resolution: 1.0\n",
      "unlimited dimensions: \n",
      "current shape = (360,)\n",
      "filling off\n",
      "\n"
     ]
    }
   ],
   "source": [
    "print data['lon']"
   ]
  },
  {
   "cell_type": "code",
   "execution_count": 10,
   "metadata": {
    "collapsed": false
   },
   "outputs": [
    {
     "name": "stdout",
     "output_type": "stream",
     "text": [
      "<type 'netCDF4._netCDF4.Variable'>\n",
      "float32 absvprs(time, lev, lat, lon)\n",
      "    _FillValue: 9.999e+20\n",
      "    missing_value: 9.999e+20\n",
      "    long_name: ** (1000 975 950 925 900.. 70 50 30 20 10) absolute vorticity [1/s] \n",
      "unlimited dimensions: \n",
      "current shape = (33, 31, 181, 360)\n",
      "filling off\n",
      "\n"
     ]
    }
   ],
   "source": [
    "print data['absvprs']"
   ]
  },
  {
   "cell_type": "code",
   "execution_count": 11,
   "metadata": {
    "collapsed": false
   },
   "outputs": [
    {
     "ename": "AttributeError",
     "evalue": "NetCDF: Attribute not found",
     "output_type": "error",
     "traceback": [
      "\u001b[0;31m---------------------------------------------------------------------------\u001b[0m",
      "\u001b[0;31mAttributeError\u001b[0m                            Traceback (most recent call last)",
      "\u001b[0;32m<ipython-input-11-7dcfb9189624>\u001b[0m in \u001b[0;36m<module>\u001b[0;34m()\u001b[0m\n\u001b[0;32m----> 1\u001b[0;31m \u001b[0;32mfor\u001b[0m \u001b[0mkey\u001b[0m\u001b[0;34m,\u001b[0m \u001b[0mvalue\u001b[0m \u001b[0;32min\u001b[0m \u001b[0mdata\u001b[0m\u001b[0;34m.\u001b[0m\u001b[0miteritems\u001b[0m\u001b[0;34m(\u001b[0m\u001b[0;34m)\u001b[0m\u001b[0;34m:\u001b[0m\u001b[0;34m\u001b[0m\u001b[0m\n\u001b[0m\u001b[1;32m      2\u001b[0m     \u001b[0;32mprint\u001b[0m \u001b[0mkey\u001b[0m\u001b[0;34m\u001b[0m\u001b[0m\n",
      "\u001b[0;32mnetCDF4/_netCDF4.pyx\u001b[0m in \u001b[0;36mnetCDF4._netCDF4.Dataset.__getattr__ (netCDF4/_netCDF4.c:19507)\u001b[0;34m()\u001b[0m\n",
      "\u001b[0;32mnetCDF4/_netCDF4.pyx\u001b[0m in \u001b[0;36mnetCDF4._netCDF4.Dataset.getncattr (netCDF4/_netCDF4.c:18541)\u001b[0;34m()\u001b[0m\n",
      "\u001b[0;32mnetCDF4/_netCDF4.pyx\u001b[0m in \u001b[0;36mnetCDF4._netCDF4._get_att (netCDF4/_netCDF4.c:4254)\u001b[0;34m()\u001b[0m\n",
      "\u001b[0;31mAttributeError\u001b[0m: NetCDF: Attribute not found"
     ]
    }
   ],
   "source": [
    "for key, value in data.iteritems():\n",
    "    print key"
   ]
  },
  {
   "cell_type": "code",
   "execution_count": null,
   "metadata": {
    "collapsed": true
   },
   "outputs": [],
   "source": []
  }
 ],
 "metadata": {
  "kernelspec": {
   "display_name": "Python 2",
   "language": "python",
   "name": "python2"
  },
  "language_info": {
   "codemirror_mode": {
    "name": "ipython",
    "version": 2
   },
   "file_extension": ".py",
   "mimetype": "text/x-python",
   "name": "python",
   "nbconvert_exporter": "python",
   "pygments_lexer": "ipython2",
   "version": "2.7.11"
  }
 },
 "nbformat": 4,
 "nbformat_minor": 0
}

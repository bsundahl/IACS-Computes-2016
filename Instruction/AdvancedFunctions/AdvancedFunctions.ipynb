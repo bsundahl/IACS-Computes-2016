{
 "cells": [
  {
   "cell_type": "markdown",
   "metadata": {
    "collapsed": true
   },
   "source": [
    "# Advanced Functions"
   ]
  },
  {
   "cell_type": "markdown",
   "metadata": {},
   "source": [
    "This notebook covers a smattering of some of the advanced features of functions. These concepts and tools should help you write more robust and efficient functions."
   ]
  },
  {
   "cell_type": "markdown",
   "metadata": {},
   "source": [
    "## Scope"
   ]
  },
  {
   "cell_type": "markdown",
   "metadata": {},
   "source": [
    "There are some things we need to know about when using functions. Recall the age function we wrote yesterday."
   ]
  },
  {
   "cell_type": "code",
   "execution_count": 3,
   "metadata": {
    "collapsed": true
   },
   "outputs": [],
   "source": [
    "def age(year, month, day):\n",
    "    today = 13\n",
    "    this_month = 7\n",
    "    this_year = 2016\n",
    "    if (month > this_month) or ((month == this_month) and (day >= today)):\n",
    "        return this_year - year - 1\n",
    "    else:\n",
    "        return this_year - year"
   ]
  },
  {
   "cell_type": "code",
   "execution_count": 4,
   "metadata": {
    "collapsed": false
   },
   "outputs": [
    {
     "data": {
      "text/plain": [
       "25"
      ]
     },
     "execution_count": 4,
     "metadata": {},
     "output_type": "execute_result"
    }
   ],
   "source": [
    "age(1990,11,1)"
   ]
  },
  {
   "cell_type": "markdown",
   "metadata": {},
   "source": [
    " Note that in our age function, we have 6 variables. Their names are year, month, day, today, this_month, and this_year. What's currently in those variables?"
   ]
  },
  {
   "cell_type": "code",
   "execution_count": 19,
   "metadata": {
    "collapsed": false,
    "scrolled": true
   },
   "outputs": [
    {
     "ename": "NameError",
     "evalue": "name 'today' is not defined",
     "output_type": "error",
     "traceback": [
      "\u001b[0;31m---------------------------------------------------------------------------\u001b[0m",
      "\u001b[0;31mNameError\u001b[0m                                 Traceback (most recent call last)",
      "\u001b[0;32m<ipython-input-19-489d80c2f2ab>\u001b[0m in \u001b[0;36m<module>\u001b[0;34m()\u001b[0m\n\u001b[0;32m----> 1\u001b[0;31m \u001b[0mtoday\u001b[0m\u001b[0;34m\u001b[0m\u001b[0m\n\u001b[0m",
      "\u001b[0;31mNameError\u001b[0m: name 'today' is not defined"
     ]
    }
   ],
   "source": [
    "today"
   ]
  },
  {
   "cell_type": "markdown",
   "metadata": {},
   "source": [
    "Hmm. It says today is not defined. This is actually the expected behavior. At this moment in time, the 6 variables inside age() *do not exist* anywhere in the computer. The variables year, month, and day are only created when age() is called, and these variables can only be ued by age(). At the time they are created, they are given the values that we put in the parentheses. The variables today, this_month, and this_year are created *inside* age(). Here's the important part: When age() is done executing, all 6 of these variables are destroyed."
   ]
  },
  {
   "cell_type": "markdown",
   "metadata": {},
   "source": [
    "The variables that a function can see and use are part of a set called its *scope*. A variable is said to be in a function's scope if that function can see and use it."
   ]
  },
  {
   "cell_type": "markdown",
   "metadata": {},
   "source": [
    "Why does python do this? Well one reason is to prevent naming conflicts. Often in programming you will be calling functions that other people wrote. What happens if that person used a variable name that you also used? For a silly example, what if another piece of code had a variable called today but needed to call age? That code might look something like this:"
   ]
  },
  {
   "cell_type": "code",
   "execution_count": 28,
   "metadata": {
    "collapsed": false
   },
   "outputs": [
    {
     "name": "stdout",
     "output_type": "stream",
     "text": [
      "Tuesday\n"
     ]
    }
   ],
   "source": [
    "today = \"Tuesday\"\n",
    "age(1986,9,20)\n",
    "print today"
   ]
  },
  {
   "cell_type": "markdown",
   "metadata": {},
   "source": [
    "Without the protective structure of scope, the variable today would have been overwritten by the function age, and our code might not have performed the way we anticipated down the road."
   ]
  },
  {
   "cell_type": "markdown",
   "metadata": {},
   "source": [
    "Python is special in that functions *can* look outside themselves for variables that have been already defined. Let's test this using some variable a:"
   ]
  },
  {
   "cell_type": "code",
   "execution_count": 9,
   "metadata": {
    "collapsed": true
   },
   "outputs": [],
   "source": [
    "a = 7.98"
   ]
  },
  {
   "cell_type": "code",
   "execution_count": 30,
   "metadata": {
    "collapsed": true
   },
   "outputs": [],
   "source": [
    "def age(year, month, day):\n",
    "    today = 13\n",
    "    this_month = 7\n",
    "    this_year = 2016\n",
    "    print \"I can see a! It's \", a #This function can see a because it has been previously defined.\n",
    "    if (month > this_month) or ((month == this_month) and (day >= today)):\n",
    "        return this_year - year - 1\n",
    "    else:\n",
    "        return this_year - year"
   ]
  },
  {
   "cell_type": "code",
   "execution_count": 31,
   "metadata": {
    "collapsed": false
   },
   "outputs": [
    {
     "name": "stdout",
     "output_type": "stream",
     "text": [
      "I can see a! It's  7.98\n"
     ]
    },
    {
     "data": {
      "text/plain": [
       "29"
      ]
     },
     "execution_count": 31,
     "metadata": {},
     "output_type": "execute_result"
    }
   ],
   "source": [
    "age(1986,9,20)"
   ]
  },
  {
   "cell_type": "markdown",
   "metadata": {},
   "source": [
    "When a function encounters a variable, it first looks in it's own pool of variables to see if it finds a match. If it can find one, it uses that one. If it can't, then it looks outside the function. If we had defined another variable a inside age(), then age would have printed that one instead (try it!)"
   ]
  },
  {
   "cell_type": "markdown",
   "metadata": {},
   "source": [
    "So we've seen that a function can see a variable outside its scope (in Python), but what would happen if we tried to do this?"
   ]
  },
  {
   "cell_type": "code",
   "execution_count": 5,
   "metadata": {
    "collapsed": true
   },
   "outputs": [],
   "source": [
    "def age(year, month, day):\n",
    "    today = 13\n",
    "    this_month = 7\n",
    "    this_year = 2016\n",
    "    a = a + 1 #change the variable a\n",
    "    print \"I can see a! It's \", a\n",
    "    if (month > this_month) or ((month == this_month) and (day >= today)):\n",
    "        return this_year - year - 1\n",
    "    else:\n",
    "        return this_year - year"
   ]
  },
  {
   "cell_type": "code",
   "execution_count": 6,
   "metadata": {
    "collapsed": false
   },
   "outputs": [
    {
     "ename": "UnboundLocalError",
     "evalue": "local variable 'a' referenced before assignment",
     "output_type": "error",
     "traceback": [
      "\u001b[0;31m---------------------------------------------------------------------------\u001b[0m",
      "\u001b[0;31mUnboundLocalError\u001b[0m                         Traceback (most recent call last)",
      "\u001b[0;32m<ipython-input-6-7d543e3c54a0>\u001b[0m in \u001b[0;36m<module>\u001b[0;34m()\u001b[0m\n\u001b[0;32m----> 1\u001b[0;31m \u001b[0mage\u001b[0m\u001b[0;34m(\u001b[0m\u001b[0;36m1990\u001b[0m\u001b[0;34m,\u001b[0m\u001b[0;36m11\u001b[0m\u001b[0;34m,\u001b[0m\u001b[0;36m1\u001b[0m\u001b[0;34m)\u001b[0m\u001b[0;34m\u001b[0m\u001b[0m\n\u001b[0m",
      "\u001b[0;32m<ipython-input-5-0305ffc6451a>\u001b[0m in \u001b[0;36mage\u001b[0;34m(year, month, day)\u001b[0m\n\u001b[1;32m      3\u001b[0m     \u001b[0mthis_month\u001b[0m \u001b[0;34m=\u001b[0m \u001b[0;36m7\u001b[0m\u001b[0;34m\u001b[0m\u001b[0m\n\u001b[1;32m      4\u001b[0m     \u001b[0mthis_year\u001b[0m \u001b[0;34m=\u001b[0m \u001b[0;36m2016\u001b[0m\u001b[0;34m\u001b[0m\u001b[0m\n\u001b[0;32m----> 5\u001b[0;31m     \u001b[0ma\u001b[0m \u001b[0;34m=\u001b[0m \u001b[0ma\u001b[0m \u001b[0;34m+\u001b[0m \u001b[0;36m1\u001b[0m \u001b[0;31m#change the variable a\u001b[0m\u001b[0;34m\u001b[0m\u001b[0m\n\u001b[0m\u001b[1;32m      6\u001b[0m     \u001b[0;32mprint\u001b[0m \u001b[0;34m\"I can see a! It's \"\u001b[0m\u001b[0;34m,\u001b[0m \u001b[0ma\u001b[0m\u001b[0;34m\u001b[0m\u001b[0m\n\u001b[1;32m      7\u001b[0m     \u001b[0;32mif\u001b[0m \u001b[0;34m(\u001b[0m\u001b[0mmonth\u001b[0m \u001b[0;34m>\u001b[0m \u001b[0mthis_month\u001b[0m\u001b[0;34m)\u001b[0m \u001b[0;32mor\u001b[0m \u001b[0;34m(\u001b[0m\u001b[0;34m(\u001b[0m\u001b[0mmonth\u001b[0m \u001b[0;34m==\u001b[0m \u001b[0mthis_month\u001b[0m\u001b[0;34m)\u001b[0m \u001b[0;32mand\u001b[0m \u001b[0;34m(\u001b[0m\u001b[0mday\u001b[0m \u001b[0;34m>=\u001b[0m \u001b[0mtoday\u001b[0m\u001b[0;34m)\u001b[0m\u001b[0;34m)\u001b[0m\u001b[0;34m:\u001b[0m\u001b[0;34m\u001b[0m\u001b[0m\n",
      "\u001b[0;31mUnboundLocalError\u001b[0m: local variable 'a' referenced before assignment"
     ]
    }
   ],
   "source": [
    "age(1990,11,1)"
   ]
  },
  {
   "cell_type": "markdown",
   "metadata": {},
   "source": [
    "OK, so a function can *see* a variable outside its scope in Python, but isn't allowed to change it. This is probably a good idea, for the reasons stated below.\n",
    "\n",
    "It actually is possible to change outside variables inside a function using the global keyword. If you really needed to do it, here's how it would be done."
   ]
  },
  {
   "cell_type": "code",
   "execution_count": 7,
   "metadata": {
    "collapsed": true
   },
   "outputs": [],
   "source": [
    "def age(year, month, day):\n",
    "    global a #give age access to the global variable a\n",
    "    today = 13\n",
    "    this_month = 7\n",
    "    this_year = 2016\n",
    "    a = a + 1 #change the variable a\n",
    "    print \"I can see a! It's \", a\n",
    "    if (month > this_month) or ((month == this_month) and (day >= today)):\n",
    "        return this_year - year - 1\n",
    "    else:\n",
    "        return this_year - year"
   ]
  },
  {
   "cell_type": "code",
   "execution_count": 10,
   "metadata": {
    "collapsed": false
   },
   "outputs": [
    {
     "name": "stdout",
     "output_type": "stream",
     "text": [
      "I can see a! It's  8.98\n"
     ]
    },
    {
     "data": {
      "text/plain": [
       "25"
      ]
     },
     "execution_count": 10,
     "metadata": {},
     "output_type": "execute_result"
    }
   ],
   "source": [
    "age(1990,11,1)"
   ]
  },
  {
   "cell_type": "markdown",
   "metadata": {},
   "source": [
    "While accessing outside variables in a function is a cool feature, it's not usually considered a good practice. One of the big advantages of using functions is that it *compartmentalizes* your code. Compartmentalization is a technique where large codes are split into smaller chunks and each coded separately. This affords us not only readable code, but each piece of the code can then be reused later on if necessary (as you continue coding, you'll find yourself reusing your old code a lot!). If a function that you wrote can't function without an outside variable, then it becomes more difficult for you (and others) to reuse later. And if your function changes an outside variable, it can very easily lead to unintended consequences when used as part of a larger code. If your function needs information from outside, simply write that function to take that information in as an argument, and if your function needs to change something on the outside, write it as an output."
   ]
  },
  {
   "cell_type": "markdown",
   "metadata": {},
   "source": [
    "## Default Parameters and Keyword Arguments"
   ]
  },
  {
   "cell_type": "markdown",
   "metadata": {},
   "source": [
    "We've seen how to specify which inputs a function needs in order to operate, and how they are handled by the function. There are times, however, when we may want to specify a *default parameter* for one or more of the function inputs. A default parameter is simply a value for a variable that is automatically stored there in the event the user doesn't specify an input. I'll give some examples of when this is a good idea, but first, let's look at how we do this. Here's a function (that you may have written yesterday) that creates a list of points between two numbers that are input. A third input defines the number of points to be in the list."
   ]
  },
  {
   "cell_type": "code",
   "execution_count": 11,
   "metadata": {
    "collapsed": true
   },
   "outputs": [],
   "source": [
    "def linspace(a=0,b=1,n=11):\n",
    "    \n",
    "    # Make sure everything is correct type\n",
    "    a = float(a)\n",
    "    b = float(b)\n",
    "    n = int(n)\n",
    "    \n",
    "    # The size of each step\n",
    "    dx = (b-a)/(n-1)\n",
    "    \n",
    "    # The answer to return\n",
    "    answer = []\n",
    "    \n",
    "    # Our loop\n",
    "    for i in range(n):\n",
    "        \n",
    "        # Append correct answer to the list\n",
    "        answer.append(a + dx * i)\n",
    "        \n",
    "    # Return our answer\n",
    "    return answer"
   ]
  },
  {
   "cell_type": "markdown",
   "metadata": {},
   "source": [
    "The implementation of the default parameters occurs inside the parentheses of the first line of the function definition. Where we specify the variables to be used, a, b, and n, we also provide default values. If the user (the person calling the function) doesn't input any of these values, the function will still work. It will simply use the default value. When defining a function, any number of variables can have default values. In all of the examples up until now, none of our variables had default values. In this case, we gave all of them default values. Anything inbetween would also be acceptable. Because this function has a default value for all of its parameters, we can acually call this function with no inputs, like this:"
   ]
  },
  {
   "cell_type": "code",
   "execution_count": 12,
   "metadata": {
    "collapsed": false
   },
   "outputs": [
    {
     "data": {
      "text/plain": [
       "[0.0,\n",
       " 0.1,\n",
       " 0.2,\n",
       " 0.30000000000000004,\n",
       " 0.4,\n",
       " 0.5,\n",
       " 0.6000000000000001,\n",
       " 0.7000000000000001,\n",
       " 0.8,\n",
       " 0.9,\n",
       " 1.0]"
      ]
     },
     "execution_count": 12,
     "metadata": {},
     "output_type": "execute_result"
    }
   ],
   "source": [
    "linspace()"
   ]
  },
  {
   "cell_type": "markdown",
   "metadata": {},
   "source": [
    "We can specify only the first input, or the first two inputs, like this:"
   ]
  },
  {
   "cell_type": "code",
   "execution_count": 13,
   "metadata": {
    "collapsed": false
   },
   "outputs": [
    {
     "data": {
      "text/plain": [
       "[-1.0,\n",
       " -0.8,\n",
       " -0.6,\n",
       " -0.3999999999999999,\n",
       " -0.19999999999999996,\n",
       " 0.0,\n",
       " 0.20000000000000018,\n",
       " 0.40000000000000013,\n",
       " 0.6000000000000001,\n",
       " 0.8,\n",
       " 1.0]"
      ]
     },
     "execution_count": 13,
     "metadata": {},
     "output_type": "execute_result"
    }
   ],
   "source": [
    "linspace(-1)"
   ]
  },
  {
   "cell_type": "code",
   "execution_count": 14,
   "metadata": {
    "collapsed": false
   },
   "outputs": [
    {
     "data": {
      "text/plain": [
       "[0.0, 10.0, 20.0, 30.0, 40.0, 50.0, 60.0, 70.0, 80.0, 90.0, 100.0]"
      ]
     },
     "execution_count": 14,
     "metadata": {},
     "output_type": "execute_result"
    }
   ],
   "source": [
    "linspace(0,100)"
   ]
  },
  {
   "cell_type": "markdown",
   "metadata": {},
   "source": [
    "Using this strategy, you may have noticed that we can specify a and b, and leave n unspecified, but what if we want to specify n, but not b. You might try this:"
   ]
  },
  {
   "cell_type": "code",
   "execution_count": 17,
   "metadata": {
    "collapsed": false
   },
   "outputs": [
    {
     "ename": "SyntaxError",
     "evalue": "invalid syntax (<ipython-input-17-dcc24ad13767>, line 1)",
     "output_type": "error",
     "traceback": [
      "\u001b[0;36m  File \u001b[0;32m\"<ipython-input-17-dcc24ad13767>\"\u001b[0;36m, line \u001b[0;32m1\u001b[0m\n\u001b[0;31m    linspace(0,,21) #create a list of 21 numbers from 0 to 1\u001b[0m\n\u001b[0m               ^\u001b[0m\n\u001b[0;31mSyntaxError\u001b[0m\u001b[0;31m:\u001b[0m invalid syntax\n"
     ]
    }
   ],
   "source": [
    "linspace(0,,21) #create a list of 21 numbers from 0 to 1"
   ]
  },
  {
   "cell_type": "markdown",
   "metadata": {},
   "source": [
    "Unfortunately, Python doesn't understand what we mean in this case. The solution to this problem is *keyword arguments*. If you know the names that a function uses for its variables, you can specify what those variables should be by name. Like this:"
   ]
  },
  {
   "cell_type": "code",
   "execution_count": 18,
   "metadata": {
    "collapsed": false
   },
   "outputs": [
    {
     "data": {
      "text/plain": [
       "[0.0,\n",
       " 0.05,\n",
       " 0.1,\n",
       " 0.15000000000000002,\n",
       " 0.2,\n",
       " 0.25,\n",
       " 0.30000000000000004,\n",
       " 0.35000000000000003,\n",
       " 0.4,\n",
       " 0.45,\n",
       " 0.5,\n",
       " 0.55,\n",
       " 0.6000000000000001,\n",
       " 0.65,\n",
       " 0.7000000000000001,\n",
       " 0.75,\n",
       " 0.8,\n",
       " 0.8500000000000001,\n",
       " 0.9,\n",
       " 0.9500000000000001,\n",
       " 1.0]"
      ]
     },
     "execution_count": 18,
     "metadata": {},
     "output_type": "execute_result"
    }
   ],
   "source": [
    "linspace(a = 0, n = 21)"
   ]
  },
  {
   "cell_type": "markdown",
   "metadata": {},
   "source": [
    "We know linspace names its variables a, b, and n, so we take advantage of this to explicitly specify them when we call the function. Notice that we didn't specify b, but since it has a default value, Python knows what to do."
   ]
  },
  {
   "cell_type": "markdown",
   "metadata": {},
   "source": [
    "When is this useful? Maybe you're writing a code that is very technical, but you want everyday people to be able to use it. Maybe the average person doesn't need to be able to specify everything, but"
   ]
  }
 ],
 "metadata": {
  "kernelspec": {
   "display_name": "Python 2",
   "language": "python",
   "name": "python2"
  },
  "language_info": {
   "codemirror_mode": {
    "name": "ipython",
    "version": 2
   },
   "file_extension": ".py",
   "mimetype": "text/x-python",
   "name": "python",
   "nbconvert_exporter": "python",
   "pygments_lexer": "ipython2",
   "version": "2.7.11"
  }
 },
 "nbformat": 4,
 "nbformat_minor": 0
}

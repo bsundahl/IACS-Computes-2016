{
 "cells": [
  {
   "cell_type": "markdown",
   "metadata": {
    "collapsed": true
   },
   "source": [
    "# Functions"
   ]
  },
  {
   "cell_type": "markdown",
   "metadata": {},
   "source": [
    "Up until now, we've simply been writing code in cells of our notebooks and executing them. This is great if you want to perhaps change one thing and run a bunch of lines of code again with that one thing changed. But what if we want to run the same cell a whole bunch of times? Or what if we want one cell to be able to run the code that's in another cell? Functions allow us to do these things and really help with the organization (and therefore readability) of our code."
   ]
  },
  {
   "cell_type": "markdown",
   "metadata": {},
   "source": [
    "At it's most basic level, a function is something that accepts inputs, and produces outputs. Think of a function as a factory. It takes some number of raw ingredients, and spits out a finished product or products. We can give functions names just like we give variables names. The inputs that a function works with are normally written in parentheses after the name of the function. So let's say we have a function named f that takes 2 inputs, which we'll temporarily call a and b. Then we write f(a,b). f takes a and b and produces something. Let's say it produces one thing and let's call it c. Then we can write f(a,b) = c."
   ]
  },
  {
   "cell_type": "markdown",
   "metadata": {},
   "source": [
    "Python allows us to write our own functions so that we can perform the same tasks over and over again, but with perhaps a few things changed. Let's recall our example from earlier with the quadratic equation. We used variables to solve it with a code that looked like this:"
   ]
  },
  {
   "cell_type": "code",
   "execution_count": 1,
   "metadata": {
    "collapsed": true
   },
   "outputs": [],
   "source": [
    "import cmath"
   ]
  },
  {
   "cell_type": "code",
   "execution_count": 2,
   "metadata": {
    "collapsed": false
   },
   "outputs": [
    {
     "name": "stdout",
     "output_type": "stream",
     "text": [
      "(0.5+0j) (-1+0j)\n"
     ]
    }
   ],
   "source": [
    "a=2\n",
    "b=1\n",
    "c=-1\n",
    "\n",
    "x1 = (-b+cmath.sqrt(b**2-4*a*c))/(2*a)\n",
    "x2 = (-b-cmath.sqrt(b**2-4*a*c))/(2*a)\n",
    "\n",
    "print x1, x2"
   ]
  },
  {
   "cell_type": "markdown",
   "metadata": {},
   "source": [
    "If we wanted to change the quadratic equation we want to solve, we could just change the values of a, b, and c and execute the cell again. This is what we did. Another way to do this is to use functions. The function version of the code looks like this:"
   ]
  },
  {
   "cell_type": "code",
   "execution_count": 3,
   "metadata": {
    "collapsed": false
   },
   "outputs": [],
   "source": [
    "def solver(a,b,c):\n",
    "    x1 = (-b+cmath.sqrt(b**2-4*a*c))/(2*a)\n",
    "    x2 = (-b-cmath.sqrt(b**2-4*a*c))/(2*a)\n",
    "    print x1, x2"
   ]
  },
  {
   "cell_type": "markdown",
   "metadata": {},
   "source": [
    "There are a couple of things to note here. First, executing the cell didn't produce any output. This is because in the above cell we didn't actually run any code. All we did was *define* a function named solver. If this function gets used later (or, as we say in programming, get's *called* later), the computer will know to come back here and run those three lines of code inside the function. The second thing to note we'll talk about later.\n",
    "\n",
    "The syntax of a function is fairly simple. The def keyword let's Python know that the next name we use is going to be a function. The next part of the syntax is the list of input *arguments*, in our case a, b, and c, enclosed by parentheses. Then the standard colon (:), and then every following line of indented code is considered part of the function. \n",
    "\n",
    "We can call a function like this:"
   ]
  },
  {
   "cell_type": "code",
   "execution_count": 4,
   "metadata": {
    "collapsed": false
   },
   "outputs": [
    {
     "name": "stdout",
     "output_type": "stream",
     "text": [
      "(0.5+0j) (-1+0j)\n"
     ]
    }
   ],
   "source": [
    "solver(2,1,-1)"
   ]
  },
  {
   "cell_type": "markdown",
   "metadata": {},
   "source": [
    "Here's another example of a function. This one takes a birth year, month, and day, and prints out the persons age:"
   ]
  },
  {
   "cell_type": "code",
   "execution_count": 7,
   "metadata": {
    "collapsed": true
   },
   "outputs": [],
   "source": [
    "def age(year, month, day):\n",
    "    today = 12\n",
    "    this_month = 7\n",
    "    this_year = 2016\n",
    "    if (month > this_month) or ((month == this_month) and (day >= today)):\n",
    "        print this_year - year - 1\n",
    "    else:\n",
    "        print this_year - year"
   ]
  },
  {
   "cell_type": "code",
   "execution_count": 6,
   "metadata": {
    "collapsed": false
   },
   "outputs": [
    {
     "name": "stdout",
     "output_type": "stream",
     "text": [
      "29\n"
     ]
    }
   ],
   "source": [
    "age(1986,9,20)"
   ]
  },
  {
   "cell_type": "markdown",
   "metadata": {},
   "source": [
    "## Return statements"
   ]
  },
  {
   "cell_type": "markdown",
   "metadata": {},
   "source": [
    "But what if another function wants to use this age? It's not very useful to us if it's only printed to the screen. This is where return statements come in. With this, we can actually use the result in another function. Here's our age function written with a return statement:"
   ]
  },
  {
   "cell_type": "code",
   "execution_count": 9,
   "metadata": {
    "collapsed": true
   },
   "outputs": [],
   "source": [
    "def age(year, month, day):\n",
    "    today = 12\n",
    "    this_month = 7\n",
    "    this_year = 2016\n",
    "    if (month > this_month) or ((month == this_month) and (day >= today)):\n",
    "        return this_year - year - 1\n",
    "    else:\n",
    "        return this_year - year"
   ]
  },
  {
   "cell_type": "markdown",
   "metadata": {},
   "source": [
    "Now let's try calling it."
   ]
  },
  {
   "cell_type": "code",
   "execution_count": 10,
   "metadata": {
    "collapsed": false
   },
   "outputs": [
    {
     "data": {
      "text/plain": [
       "29"
      ]
     },
     "execution_count": 10,
     "metadata": {},
     "output_type": "execute_result"
    }
   ],
   "source": [
    "age(1986,9,20)"
   ]
  },
  {
   "cell_type": "markdown",
   "metadata": {},
   "source": [
    "The result looks the same, but the new structure allows us to do things like this:"
   ]
  },
  {
   "cell_type": "code",
   "execution_count": 11,
   "metadata": {
    "collapsed": false
   },
   "outputs": [
    {
     "name": "stdout",
     "output_type": "stream",
     "text": [
      "Bryan is 29 years old.\n",
      "Joel is 25 years old.\n"
     ]
    }
   ],
   "source": [
    "bryans_age = age(1986,9,20)\n",
    "joels_age = age(1990,11,1)\n",
    "\n",
    "print \"Bryan is\", bryans_age,\"years old.\"\n",
    "print \"Joel is\", joels_age,\"years old.\""
   ]
  },
  {
   "cell_type": "markdown",
   "metadata": {},
   "source": [
    "Try running the cell above with the old definition of age, and see what happens!"
   ]
  },
  {
   "cell_type": "markdown",
   "metadata": {},
   "source": [
    "Using return statements allows us to store the return value in a variable, print it, use it in calculations, etc."
   ]
  },
  {
   "cell_type": "markdown",
   "metadata": {},
   "source": [
    "Let's practice! "
   ]
  },
  {
   "cell_type": "markdown",
   "metadata": {},
   "source": [
    "Practice Problems:  \n",
    "General Functions  \n",
    "Factorization"
   ]
  },
  {
   "cell_type": "markdown",
   "metadata": {},
   "source": [
    "## Scope"
   ]
  },
  {
   "cell_type": "markdown",
   "metadata": {},
   "source": [
    "There are some things we need to know about when using functions. Note that in our age function, we have 6 variables. Their names are year, month, day, today, this_month, and this_year. What's currently in those variables?"
   ]
  },
  {
   "cell_type": "code",
   "execution_count": 19,
   "metadata": {
    "collapsed": false,
    "scrolled": true
   },
   "outputs": [
    {
     "ename": "NameError",
     "evalue": "name 'today' is not defined",
     "output_type": "error",
     "traceback": [
      "\u001b[0;31m---------------------------------------------------------------------------\u001b[0m",
      "\u001b[0;31mNameError\u001b[0m                                 Traceback (most recent call last)",
      "\u001b[0;32m<ipython-input-19-489d80c2f2ab>\u001b[0m in \u001b[0;36m<module>\u001b[0;34m()\u001b[0m\n\u001b[0;32m----> 1\u001b[0;31m \u001b[0mtoday\u001b[0m\u001b[0;34m\u001b[0m\u001b[0m\n\u001b[0m",
      "\u001b[0;31mNameError\u001b[0m: name 'today' is not defined"
     ]
    }
   ],
   "source": [
    "today"
   ]
  },
  {
   "cell_type": "markdown",
   "metadata": {},
   "source": [
    "Hmm. It says today is not defined. This is actually the expected behavior. At this moment in time, the 6 variables inside age() *do not exist* anywhere in the computer. The variables year, month, and day are only created when age() is called, and these variables can only be ued by age(). At the time they are created, they are given the values that we put in the parentheses. The variables today, this_month, and this_year are created *inside* age(). Here's the important part: When age() is done executing, all 6 of these variables are destroyed."
   ]
  },
  {
   "cell_type": "markdown",
   "metadata": {},
   "source": [
    "The variables that a function can see and use are part of a set called its *scope*. A variable is said to be in a function's scope if that function can see and use it."
   ]
  },
  {
   "cell_type": "markdown",
   "metadata": {},
   "source": [
    "Why does python do this? Well one reason is to prevent naming conflicts. Often in programming you will be calling functions that other people wrote. What happens if that person used a variable name that you also used? For a silly example, what if another piece of code had a variable called today but needed to call age? That code might look something like this:"
   ]
  },
  {
   "cell_type": "code",
   "execution_count": 28,
   "metadata": {
    "collapsed": false
   },
   "outputs": [
    {
     "name": "stdout",
     "output_type": "stream",
     "text": [
      "Tuesday\n"
     ]
    }
   ],
   "source": [
    "today = \"Tuesday\"\n",
    "age(1986,9,20)\n",
    "print today"
   ]
  },
  {
   "cell_type": "markdown",
   "metadata": {},
   "source": [
    "Without the protective structure of scope, the variable today would have been overwritten by the function age, and our code might not have performed the way we anticipated down the road."
   ]
  },
  {
   "cell_type": "markdown",
   "metadata": {},
   "source": [
    "Python is special in that functions *can* look outside themselves for variables that have been already defined. Let's test this using some variable a:"
   ]
  },
  {
   "cell_type": "code",
   "execution_count": 29,
   "metadata": {
    "collapsed": true
   },
   "outputs": [],
   "source": [
    "a = 7.98"
   ]
  },
  {
   "cell_type": "code",
   "execution_count": 30,
   "metadata": {
    "collapsed": true
   },
   "outputs": [],
   "source": [
    "def age(year, month, day):\n",
    "    today = 12\n",
    "    this_month = 7\n",
    "    this_year = 2016\n",
    "    print \"I can see a! It's \", a\n",
    "    if (month > this_month) or ((month == this_month) and (day >= today)):\n",
    "        return this_year - year - 1\n",
    "    else:\n",
    "        return this_year - year"
   ]
  },
  {
   "cell_type": "code",
   "execution_count": 31,
   "metadata": {
    "collapsed": false
   },
   "outputs": [
    {
     "name": "stdout",
     "output_type": "stream",
     "text": [
      "I can see a! It's  7.98\n"
     ]
    },
    {
     "data": {
      "text/plain": [
       "29"
      ]
     },
     "execution_count": 31,
     "metadata": {},
     "output_type": "execute_result"
    }
   ],
   "source": [
    "age(1986,9,20)"
   ]
  },
  {
   "cell_type": "markdown",
   "metadata": {},
   "source": [
    "When a function encounters a variable, it first looks in it's own pool of variables to see if it finds a match. If it can find one, it uses that one. If it can't, then it looks outside the function. If we had defined another variable a inside age(), then age would have printed that one instead (try it!)"
   ]
  },
  {
   "cell_type": "markdown",
   "metadata": {},
   "source": [
    "While accessing outside variables in a function is a cool feature, it's not usually considered a good practice. One of the big advantages of using functions is that it *compartmentalizes* your code. Compartmentalization is a technique where large codes are split into smaller chunks and each coded separately. This affords us not only readable code, but each piece of the code can then be reused later on if necessary (as you continue coding, you'll find yourself reusing your old code a lot!). If a function that you wrote can't function without an outside variable, then it becomes more difficult for you (and others) to reuse later. If your function needs information from outside, simply write that function to take that information in as an argument."
   ]
  }
 ],
 "metadata": {
  "kernelspec": {
   "display_name": "Python 2",
   "language": "python",
   "name": "python2"
  },
  "language_info": {
   "codemirror_mode": {
    "name": "ipython",
    "version": 2
   },
   "file_extension": ".py",
   "mimetype": "text/x-python",
   "name": "python",
   "nbconvert_exporter": "python",
   "pygments_lexer": "ipython2",
   "version": "2.7.11"
  }
 },
 "nbformat": 4,
 "nbformat_minor": 0
}

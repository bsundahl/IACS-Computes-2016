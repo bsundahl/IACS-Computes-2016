{
 "cells": [
  {
   "cell_type": "markdown",
   "metadata": {},
   "source": [
    "# Turtles"
   ]
  },
  {
   "cell_type": "markdown",
   "metadata": {},
   "source": [
    "Lets do something fun and visual. We are going to need to use a library for this. A library is basically code someone else has written. In order to use a library we must import the code. (A more in depth explanation will come later.) In python, importing is easy. Its simply:"
   ]
  },
  {
   "cell_type": "code",
   "execution_count": 1,
   "metadata": {
    "collapsed": false
   },
   "outputs": [],
   "source": [
    "import turtle"
   ]
  },
  {
   "cell_type": "markdown",
   "metadata": {},
   "source": [
    "Did it work? How would we know? Well, there was no error message, so we know python found something called \"turtle\" somewhere. Is it what we want? We can't be sure until we start using the code from the library. How do we know whats in this library we imported? In these Jupyter notebooks (former known as IPyton notebooks), if we hit shift + tab after typing anything in, we will bring up the help documentation on the thing we just typed. Lets try it here."
   ]
  },
  {
   "cell_type": "code",
   "execution_count": 2,
   "metadata": {
    "collapsed": false
   },
   "outputs": [
    {
     "data": {
      "text/plain": [
       "<module 'turtle' from '/Users/bryansundahl/anaconda/lib/python2.7/lib-tk/turtle.pyc'>"
      ]
     },
     "execution_count": 2,
     "metadata": {},
     "output_type": "execute_result"
    }
   ],
   "source": [
    "turtle"
   ]
  },
  {
   "cell_type": "markdown",
   "metadata": {},
   "source": [
    "So that was a lot of words. But it was the right words (IE this is the turtles we want to use). Do NOT worry if you didn't understand any of it. Once you start using it, you'll get the hang of it. So lets move forward."
   ]
  },
  {
   "cell_type": "code",
   "execution_count": 3,
   "metadata": {
    "collapsed": true
   },
   "outputs": [],
   "source": [
    "# First we need to create a screen for our turtle to walk around in.\n",
    "# Remember, these are comments. This is simply the programmer talking\n",
    "# to anyone who will use his/her code in the future. Python knows this,\n",
    "# and won't treat this like actual code. \n",
    "\n",
    "window = turtle.Screen()"
   ]
  },
  {
   "cell_type": "markdown",
   "metadata": {},
   "source": [
    "Yay, we just created a new window. We're on our way. So what else can we do? Lets try that shift + tab thing again on our new variable called \"window\"."
   ]
  },
  {
   "cell_type": "code",
   "execution_count": 4,
   "metadata": {
    "collapsed": false
   },
   "outputs": [
    {
     "ename": "SyntaxError",
     "evalue": "invalid syntax (<ipython-input-4-4682148e15f9>, line 1)",
     "output_type": "error",
     "traceback": [
      "\u001b[0;36m  File \u001b[0;32m\"<ipython-input-4-4682148e15f9>\"\u001b[0;36m, line \u001b[0;32m1\u001b[0m\n\u001b[0;31m    window.\u001b[0m\n\u001b[0m           ^\u001b[0m\n\u001b[0;31mSyntaxError\u001b[0m\u001b[0;31m:\u001b[0m invalid syntax\n"
     ]
    }
   ],
   "source": [
    "window."
   ]
  },
  {
   "cell_type": "markdown",
   "metadata": {},
   "source": [
    "Well, that didn't do what I wanted. Lets try a normal tab after a period."
   ]
  },
  {
   "cell_type": "code",
   "execution_count": 5,
   "metadata": {
    "collapsed": false
   },
   "outputs": [
    {
     "ename": "SyntaxError",
     "evalue": "invalid syntax (<ipython-input-5-4682148e15f9>, line 1)",
     "output_type": "error",
     "traceback": [
      "\u001b[0;36m  File \u001b[0;32m\"<ipython-input-5-4682148e15f9>\"\u001b[0;36m, line \u001b[0;32m1\u001b[0m\n\u001b[0;31m    window.\u001b[0m\n\u001b[0m           ^\u001b[0m\n\u001b[0;31mSyntaxError\u001b[0m\u001b[0;31m:\u001b[0m invalid syntax\n"
     ]
    }
   ],
   "source": [
    "window."
   ]
  },
  {
   "cell_type": "markdown",
   "metadata": {},
   "source": [
    "There we go. Tab was the magic key. So there are lots of what are called \"member functions\" or \"methods\" associated with window. All of these were written by someone else and are part of the turtle library. Its impressive, how we we can use all this code after just the single line of \"import turtle\", isn't it?\n",
    "  \n",
    "So lets try using some of these."
   ]
  },
  {
   "cell_type": "code",
   "execution_count": 6,
   "metadata": {
    "collapsed": false
   },
   "outputs": [],
   "source": [
    "window.bgcolor(\"light blue\")"
   ]
  },
  {
   "cell_type": "code",
   "execution_count": 7,
   "metadata": {
    "collapsed": false,
    "scrolled": true
   },
   "outputs": [],
   "source": [
    "window.title(\"My First Turtles Window\")"
   ]
  },
  {
   "cell_type": "code",
   "execution_count": 8,
   "metadata": {
    "collapsed": true
   },
   "outputs": [],
   "source": [
    "window.clear()"
   ]
  },
  {
   "cell_type": "code",
   "execution_count": 9,
   "metadata": {
    "collapsed": true
   },
   "outputs": [],
   "source": [
    "window.bgcolor(\"purple\")"
   ]
  },
  {
   "cell_type": "markdown",
   "metadata": {},
   "source": [
    "So that was a few of the funtions we can use with the variable we called window. Lets start drawing with turtles. To draw with turtles, we need to make a turtle!"
   ]
  },
  {
   "cell_type": "code",
   "execution_count": 10,
   "metadata": {
    "collapsed": true
   },
   "outputs": [],
   "source": [
    "alex = turtle.Turtle()"
   ]
  },
  {
   "cell_type": "markdown",
   "metadata": {},
   "source": [
    "What did that do? Well, I see a little arrow in the dead center of my window variable. Now what? \n",
    "  \n",
    "Lets get alex to start walking by telling him to go forward."
   ]
  },
  {
   "cell_type": "code",
   "execution_count": 11,
   "metadata": {
    "collapsed": true
   },
   "outputs": [],
   "source": [
    "alex.forward(50)"
   ]
  },
  {
   "cell_type": "markdown",
   "metadata": {},
   "source": [
    "This command told alex (our turtle) to move forward 50 pixels worth of distance. Cool. Lets tell alex to take a left."
   ]
  },
  {
   "cell_type": "code",
   "execution_count": 12,
   "metadata": {
    "collapsed": true
   },
   "outputs": [],
   "source": [
    "alex.left(90)"
   ]
  },
  {
   "cell_type": "code",
   "execution_count": 13,
   "metadata": {
    "collapsed": true
   },
   "outputs": [],
   "source": [
    "alex.forward(50)"
   ]
  },
  {
   "cell_type": "markdown",
   "metadata": {},
   "source": [
    "Yay, that wasn't too bad. What if I wanted to send alex back to where she started? We just need to send alex home."
   ]
  },
  {
   "cell_type": "code",
   "execution_count": 14,
   "metadata": {
    "collapsed": true
   },
   "outputs": [],
   "source": [
    "alex.home()"
   ]
  },
  {
   "cell_type": "markdown",
   "metadata": {},
   "source": [
    "What if I want to erase all alex's hard work?"
   ]
  },
  {
   "cell_type": "code",
   "execution_count": 15,
   "metadata": {
    "collapsed": true
   },
   "outputs": [],
   "source": [
    "alex.clear()"
   ]
  },
  {
   "cell_type": "markdown",
   "metadata": {},
   "source": [
    "I keep calling alex a turle, but alex isn't really a turtle right now. What if I wanted her to be a real turtle? Can we do that? Yep!"
   ]
  },
  {
   "cell_type": "code",
   "execution_count": 16,
   "metadata": {
    "collapsed": true
   },
   "outputs": [],
   "source": [
    "alex.shape('turtle')"
   ]
  },
  {
   "cell_type": "markdown",
   "metadata": {},
   "source": [
    "So lets draw some regular polygons."
   ]
  },
  {
   "cell_type": "code",
   "execution_count": 17,
   "metadata": {
    "collapsed": true
   },
   "outputs": [],
   "source": [
    "# A square\n",
    "alex.forward(100)\n",
    "alex.left(90)\n",
    "alex.forward(100)\n",
    "alex.left(90)\n",
    "alex.forward(100)\n",
    "alex.left(90)\n",
    "alex.forward(100)"
   ]
  },
  {
   "cell_type": "code",
   "execution_count": 18,
   "metadata": {
    "collapsed": true
   },
   "outputs": [],
   "source": [
    "alex.clear()\n",
    "\n",
    "# An equilateral triangle\n",
    "alex.forward(100)\n",
    "alex.left(120)\n",
    "alex.forward(100)\n",
    "alex.left(120)\n",
    "alex.forward(100)"
   ]
  },
  {
   "cell_type": "markdown",
   "metadata": {},
   "source": [
    "You'll notice that alex's orientation didn't change there. She was still facing the same direction she ended the previous shape at. If you wanted to reset everything to the exact starting location, we need to send alex home and then clear."
   ]
  },
  {
   "cell_type": "code",
   "execution_count": 19,
   "metadata": {
    "collapsed": true
   },
   "outputs": [],
   "source": [
    "alex.home()\n",
    "alex.clear()"
   ]
  },
  {
   "cell_type": "markdown",
   "metadata": {},
   "source": [
    "So can we do this in a better way using something else we just learned about? Yes, yes we can. Lets do this using variables and a while loop."
   ]
  },
  {
   "cell_type": "code",
   "execution_count": 20,
   "metadata": {
    "collapsed": false
   },
   "outputs": [],
   "source": [
    "# The number of sides\n",
    "n = 13\n",
    "\n",
    "# The length of a side in our shape\n",
    "length = 10\n",
    "\n",
    "# The angle between sides\n",
    "angle = 360.0/n\n",
    "\n",
    "# Our loop counter\n",
    "i = 0\n",
    "\n",
    "# Clean up previous shapes\n",
    "alex.home()\n",
    "alex.clear()\n",
    "\n",
    "# Our loop\n",
    "while i < n:\n",
    "    alex.forward(length)\n",
    "    alex.left(angle)\n",
    "    i = i + 1"
   ]
  },
  {
   "cell_type": "markdown",
   "metadata": {},
   "source": [
    "We can't make the combination of n and length too big or we go outside our window size. Theoretically we can resize our window using the window.screensize(x,y) command. Here (x,y) would be integers representing the new window size in pixels. However, on my Mac atleast this  function call does not work and simply freezes the window. So I will not be using it. If you try it and it does freeze your drawing window, simply save your notebook and then close and halt it (from the File menu). Then just reopen it and execute all necessary cells to get back here."
   ]
  },
  {
   "cell_type": "markdown",
   "metadata": {
    "collapsed": true
   },
   "source": [
    "So all of these drawings are starting alex in the middle of the screen. What if we wanted to start somewhere else? "
   ]
  },
  {
   "cell_type": "code",
   "execution_count": 21,
   "metadata": {
    "collapsed": false
   },
   "outputs": [],
   "source": [
    "alex.setposition(100,100)"
   ]
  },
  {
   "cell_type": "markdown",
   "metadata": {},
   "source": [
    "That is almost what we want, but we still drew a line. How do we not draw a line? We use the penup() function."
   ]
  },
  {
   "cell_type": "code",
   "execution_count": 22,
   "metadata": {
    "collapsed": true
   },
   "outputs": [],
   "source": [
    "alex.penup()"
   ]
  },
  {
   "cell_type": "code",
   "execution_count": 23,
   "metadata": {
    "collapsed": true
   },
   "outputs": [],
   "source": [
    "alex.setposition(-50,-50)"
   ]
  },
  {
   "cell_type": "markdown",
   "metadata": {},
   "source": [
    "So there we go. What do we do if we want to start drawing lines again? Naturally, its simply pendown()."
   ]
  },
  {
   "cell_type": "code",
   "execution_count": 24,
   "metadata": {
    "collapsed": true
   },
   "outputs": [],
   "source": [
    "alex.pendown()\n",
    "alex.home()"
   ]
  },
  {
   "cell_type": "code",
   "execution_count": 25,
   "metadata": {
    "collapsed": true
   },
   "outputs": [],
   "source": [
    "alex.clear()"
   ]
  },
  {
   "cell_type": "markdown",
   "metadata": {},
   "source": [
    "What else can we change? We can the line thickness and color."
   ]
  },
  {
   "cell_type": "code",
   "execution_count": 26,
   "metadata": {
    "collapsed": true
   },
   "outputs": [],
   "source": [
    "alex.pencolor(\"blue\")\n",
    "alex.pensize(10)"
   ]
  },
  {
   "cell_type": "markdown",
   "metadata": {},
   "source": [
    "The following just draws a circle with the given radius in pixels."
   ]
  },
  {
   "cell_type": "code",
   "execution_count": 27,
   "metadata": {
    "collapsed": true
   },
   "outputs": [],
   "source": [
    "alex.circle(20)"
   ]
  },
  {
   "cell_type": "code",
   "execution_count": 28,
   "metadata": {
    "collapsed": true
   },
   "outputs": [],
   "source": [
    "alex.clear()"
   ]
  },
  {
   "cell_type": "markdown",
   "metadata": {},
   "source": [
    "We can also color the pen using floating point numbers between zero and one to assign colors. These are the RGB (red,green,blue) values."
   ]
  },
  {
   "cell_type": "code",
   "execution_count": 29,
   "metadata": {
    "collapsed": false
   },
   "outputs": [],
   "source": [
    "alex.pensize(1)\n",
    "alex.pencolor((0,0,1))"
   ]
  },
  {
   "cell_type": "code",
   "execution_count": 30,
   "metadata": {
    "collapsed": true
   },
   "outputs": [],
   "source": [
    "alex.circle(40)"
   ]
  },
  {
   "cell_type": "code",
   "execution_count": 31,
   "metadata": {
    "collapsed": true
   },
   "outputs": [],
   "source": [
    "alex.pencolor((1,0,1))"
   ]
  },
  {
   "cell_type": "code",
   "execution_count": 32,
   "metadata": {
    "collapsed": true
   },
   "outputs": [],
   "source": [
    "alex.circle(50)"
   ]
  },
  {
   "cell_type": "code",
   "execution_count": 33,
   "metadata": {
    "collapsed": false
   },
   "outputs": [],
   "source": [
    "alex.pencolor((1,1,1))\n",
    "alex.circle(70)"
   ]
  },
  {
   "cell_type": "code",
   "execution_count": 34,
   "metadata": {
    "collapsed": true
   },
   "outputs": [],
   "source": [
    "alex.clear()"
   ]
  },
  {
   "cell_type": "markdown",
   "metadata": {
    "collapsed": true
   },
   "source": [
    "So lets take some time and draw things! If you come up with something you're willing to share, we are more than happy to cede the floor to you!"
   ]
  },
  {
   "cell_type": "code",
   "execution_count": 35,
   "metadata": {
    "collapsed": false
   },
   "outputs": [],
   "source": [
    "# My cool image\n",
    "# The number of repititons\n",
    "n = 10\n",
    "\n",
    "# The height of my shape\n",
    "length = 100\n",
    "\n",
    "# The angle between sides\n",
    "angle = 360.0/n\n",
    "\n",
    "# Our loop counter\n",
    "i = 0\n",
    "\n",
    "# Clean up previous shapes\n",
    "alex.showturtle()\n",
    "alex.shape('arrow')\n",
    "alex.home()\n",
    "alex.clear()\n",
    "\n",
    "# Window color should be blue\n",
    "window.bgcolor((0,0.75,1))\n",
    "\n",
    "# My loop\n",
    "while i < n:\n",
    "    # Draw my shape once\n",
    "    alex.pencolor((1,.5,0))\n",
    "    alex.forward(length/2)\n",
    "    alex.pencolor((1,1,0))\n",
    "    alex.forward(length/2)\n",
    "    alex.right(90)\n",
    "    \n",
    "    # Draw an approximate semi circle (half of a 20 sided figure)\n",
    "    j = 0\n",
    "    while j <= 10: \n",
    "        alex.forward(length/12)\n",
    "        alex.right(360.0/20)\n",
    "        j = j + 1\n",
    "        \n",
    "    # Now to reset color angle for next semi-circle\n",
    "    alex.left(360.0/20)\n",
    "    alex.pencolor((1,0.5,0))\n",
    "        \n",
    "    # Draw the next semi circle\n",
    "    j = 0\n",
    "    while j <= 10: \n",
    "        alex.backward(length/12)\n",
    "        alex.right(360.0/20)\n",
    "        j = j + 1\n",
    "    \n",
    "    # Now to reset to midpoint for next iteration\n",
    "    alex.home()\n",
    "    i = i + 1\n",
    "    alex.left(angle*i)\n",
    "    \n",
    "alex.hideturtle()"
   ]
  },
  {
   "cell_type": "markdown",
   "metadata": {},
   "source": [
    "Always clean up after yourself and close things properly."
   ]
  },
  {
   "cell_type": "code",
   "execution_count": 36,
   "metadata": {
    "collapsed": true
   },
   "outputs": [],
   "source": [
    "window.bye()"
   ]
  }
 ],
 "metadata": {
  "kernelspec": {
   "display_name": "Python 2",
   "language": "python",
   "name": "python2"
  },
  "language_info": {
   "codemirror_mode": {
    "name": "ipython",
    "version": 2
   },
   "file_extension": ".py",
   "mimetype": "text/x-python",
   "name": "python",
   "nbconvert_exporter": "python",
   "pygments_lexer": "ipython2",
   "version": "2.7.11"
  }
 },
 "nbformat": 4,
 "nbformat_minor": 0
}

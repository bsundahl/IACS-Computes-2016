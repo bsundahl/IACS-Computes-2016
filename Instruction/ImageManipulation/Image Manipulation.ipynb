{
 "cells": [
  {
   "cell_type": "markdown",
   "metadata": {
    "collapsed": true
   },
   "source": [
    "# Image Manipulation"
   ]
  },
  {
   "cell_type": "code",
   "execution_count": 1,
   "metadata": {
    "collapsed": true
   },
   "outputs": [],
   "source": [
    "import numpy\n",
    "import Image"
   ]
  },
  {
   "cell_type": "code",
   "execution_count": 2,
   "metadata": {
    "collapsed": true
   },
   "outputs": [],
   "source": [
    "def subtract(file1 , file2 , option = 'L'):\n",
    "    \n",
    "    A = numpy.asarray(Image.open(file1).convert(option))\n",
    "    B = numpy.asarray(Image.open(file2).convert(option))\n",
    "    \n",
    "    C = numpy.absolute(A-B)\n",
    "    \n",
    "    dimensions = C.shape\n",
    "    try:\n",
    "        length = len(C[0,0])\n",
    "        white = 255*numpy.ones(length, dtype = numpy.int)\n",
    "    except:\n",
    "        white = 255\n",
    "    \n",
    "    for i in range(dimensions[0]):\n",
    "        for j in range(dimensions[1]):\n",
    "            C[i,j] = white - C[i,j]\n",
    "\n",
    "    img = Image.fromarray(C)\n",
    "    img.show()"
   ]
  },
  {
   "cell_type": "code",
   "execution_count": 15,
   "metadata": {
    "collapsed": false
   },
   "outputs": [],
   "source": [
    "#The subtraction works pretty well for images B,D,E\n",
    "LeftImageFile =  'ImageE1.png'\n",
    "RightImageFile = 'ImageE2.png'\n",
    "option = 'L'\n",
    "\n",
    "LeftImage = Image.open(LeftImageFile)\n",
    "LeftImage.show()\n",
    "RightImage = Image.open(RightImageFile)\n",
    "RightImage.show()\n",
    "\n",
    "subtract(LeftImageFile , RightImageFile , option)"
   ]
  },
  {
   "cell_type": "code",
   "execution_count": null,
   "metadata": {
    "collapsed": true
   },
   "outputs": [],
   "source": []
  }
 ],
 "metadata": {
  "kernelspec": {
   "display_name": "Python 2",
   "language": "python",
   "name": "python2"
  },
  "language_info": {
   "codemirror_mode": {
    "name": "ipython",
    "version": 2
   },
   "file_extension": ".py",
   "mimetype": "text/x-python",
   "name": "python",
   "nbconvert_exporter": "python",
   "pygments_lexer": "ipython2",
   "version": "2.7.11"
  }
 },
 "nbformat": 4,
 "nbformat_minor": 0
}
